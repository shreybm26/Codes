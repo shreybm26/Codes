{
 "cells": [
  {
   "cell_type": "code",
   "execution_count": 3,
   "id": "a8db1665-d54e-4a3f-93ea-1a97467cc879",
   "metadata": {},
   "outputs": [],
   "source": [
    "import pandas as pd\n",
    "import numpy as np"
   ]
  },
  {
   "cell_type": "code",
   "execution_count": 4,
   "id": "3c74d0bf-cc7f-4a21-8c2b-e12f47500212",
   "metadata": {},
   "outputs": [],
   "source": [
    "shrey=pd.read_csv('shrey.csv')"
   ]
  },
  {
   "cell_type": "code",
   "execution_count": 5,
   "id": "941b4b98-abe2-4f34-81a0-a1f4d9398861",
   "metadata": {},
   "outputs": [
    {
     "data": {
      "text/html": [
       "<div>\n",
       "<style scoped>\n",
       "    .dataframe tbody tr th:only-of-type {\n",
       "        vertical-align: middle;\n",
       "    }\n",
       "\n",
       "    .dataframe tbody tr th {\n",
       "        vertical-align: top;\n",
       "    }\n",
       "\n",
       "    .dataframe thead th {\n",
       "        text-align: right;\n",
       "    }\n",
       "</style>\n",
       "<table border=\"1\" class=\"dataframe\">\n",
       "  <thead>\n",
       "    <tr style=\"text-align: right;\">\n",
       "      <th></th>\n",
       "      <th>id</th>\n",
       "      <th>age</th>\n",
       "      <th>place</th>\n",
       "    </tr>\n",
       "  </thead>\n",
       "  <tbody>\n",
       "    <tr>\n",
       "      <th>0</th>\n",
       "      <td>2605</td>\n",
       "      <td>19</td>\n",
       "      <td>faridabad</td>\n",
       "    </tr>\n",
       "    <tr>\n",
       "      <th>1</th>\n",
       "      <td>1712</td>\n",
       "      <td>20</td>\n",
       "      <td>dimapur</td>\n",
       "    </tr>\n",
       "    <tr>\n",
       "      <th>2</th>\n",
       "      <td>2345</td>\n",
       "      <td>19</td>\n",
       "      <td>delhi</td>\n",
       "    </tr>\n",
       "    <tr>\n",
       "      <th>3</th>\n",
       "      <td>9899</td>\n",
       "      <td>19</td>\n",
       "      <td>faridabad</td>\n",
       "    </tr>\n",
       "  </tbody>\n",
       "</table>\n",
       "</div>"
      ],
      "text/plain": [
       "     id  age      place\n",
       "0  2605   19  faridabad\n",
       "1  1712   20    dimapur\n",
       "2  2345   19      delhi\n",
       "3  9899   19  faridabad"
      ]
     },
     "execution_count": 5,
     "metadata": {},
     "output_type": "execute_result"
    }
   ],
   "source": [
    "shrey"
   ]
  },
  {
   "cell_type": "code",
   "execution_count": null,
   "id": "6b9d64ef-f8e3-4b5c-9c4b-ee1eb87aa72a",
   "metadata": {},
   "outputs": [],
   "source": []
  }
 ],
 "metadata": {
  "kernelspec": {
   "display_name": "Python 3 (ipykernel)",
   "language": "python",
   "name": "python3"
  },
  "language_info": {
   "codemirror_mode": {
    "name": "ipython",
    "version": 3
   },
   "file_extension": ".py",
   "mimetype": "text/x-python",
   "name": "python",
   "nbconvert_exporter": "python",
   "pygments_lexer": "ipython3",
   "version": "3.10.6"
  }
 },
 "nbformat": 4,
 "nbformat_minor": 5
}
